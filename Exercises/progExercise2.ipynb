{
 "cells": [
  {
   "cell_type": "markdown",
   "metadata": {},
   "source": [
    "Programming Exercise 2\n",
    "\n",
    "System: A simple echo system is described by:\n",
    "y[n]=x[n]+0.5⋅x[n−4]\n",
    "\n",
    "(The output is the original signal plus a half-strength echo from 4 samples ago).\n",
    "\n",
    "Task:\n",
    "\n",
    "Write a Python function echo_system(x) that implements this.\n",
    "\n",
    "Classify the system based on the five properties we discussed. Justify your answers.\n",
    "\n",
    "What kind of system is this? (Hint: Is it an LTI system?)"
   ]
  },
  {
   "cell_type": "code",
   "execution_count": 1,
   "metadata": {},
   "outputs": [
    {
     "name": "stdout",
     "output_type": "stream",
     "text": [
      "Input x: [1, 0, 0, 0, 0, 0, 0, 0]\n",
      "Output y: [1.0, 0.0, 0.0, 0.0, 0.5, 0.0, 0.0, 0.0]\n"
     ]
    }
   ],
   "source": [
    "def echo_system(x, delay=4, alpha=0.5):\n",
    "    \"\"\"\n",
    "    y[n] = x[n] + alpha * x[n - delay]\n",
    "    Zero-pad for n < delay (causal).\n",
    "    \"\"\"\n",
    "    n = len(x)\n",
    "    y = [0]*n\n",
    "    for i in range(n):\n",
    "        echo = x[i - delay] if i - delay >= 0 else 0\n",
    "        y[i] = x[i] + alpha * echo\n",
    "    return y\n",
    "\n",
    "# --- quick demo ---\n",
    "x = [1, 0, 0, 0, 0, 0, 0, 0]\n",
    "print(\"Input x:\", x)\n",
    "print(\"Output y:\", echo_system(x))        # impulse response appears at n=0 and n=4\n"
   ]
  }
 ],
 "metadata": {
  "kernelspec": {
   "display_name": "Python 3",
   "language": "python",
   "name": "python3"
  },
  "language_info": {
   "codemirror_mode": {
    "name": "ipython",
    "version": 3
   },
   "file_extension": ".py",
   "mimetype": "text/x-python",
   "name": "python",
   "nbconvert_exporter": "python",
   "pygments_lexer": "ipython3",
   "version": "3.12.10"
  }
 },
 "nbformat": 4,
 "nbformat_minor": 2
}
