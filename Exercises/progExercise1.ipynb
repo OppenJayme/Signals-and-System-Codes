{
 "cells": [
  {
   "cell_type": "markdown",
   "metadata": {},
   "source": [
    "Programming Exercise 1\n",
    "\n",
    "System: The \"Median Filter\" is often used in image processing to remove salt-and-pepper noise. A simple 3-point version is:\n",
    "\n",
    "y[n]=median(x[n−1],x[n],x[n+1]);\n",
    "\n",
    "- Write a Python function median_filter(x) that implements this system.\n",
    "- Test it: Is this system Linear? Time-Invariant? Causal? Stable?\n",
    "- Hint for linearity: TRY x1=[0,0,100,0,0] and x2 = [0,1,0,0,0]. Check if S(x1+x2) equals S(x1) + S(x2)"
   ]
  },
  {
   "cell_type": "code",
   "execution_count": 1,
   "metadata": {},
   "outputs": [
    {
     "name": "stdout",
     "output_type": "stream",
     "text": [
      "S(x1 + x2):      [0, 1, 1, 0, 0]\n",
      "S(x1) + S(x2):   [0, 0, 0, 0, 0]\n",
      "Linear?  False\n",
      "Time-invariant?  True\n",
      "Causal?  False\n",
      "BIBO Stable?  True\n"
     ]
    }
   ],
   "source": [
    "def median3(a, b, c):\n",
    "    return sorted([a, b, c])[1]\n",
    "\n",
    "def median_filter(x):\n",
    "    # 3-point median with edge replication\n",
    "    n = len(x)\n",
    "    if n == 0: return []\n",
    "    if n == 1: return x[:]\n",
    "    y = [0]*n\n",
    "    y[0] = median3(x[0], x[0], x[1])\n",
    "    for i in range(1, n-1):\n",
    "        y[i] = median3(x[i-1], x[i], x[i+1])\n",
    "    y[-1] = median3(x[-2], x[-1], x[-1])\n",
    "    return y\n",
    "\n",
    "# ---- Tests ----\n",
    "x1 = [0, 0, 100, 0, 0]\n",
    "x2 = [0, 1,   0, 0, 0]\n",
    "\n",
    "S_x1_plus_x2 = median_filter([a+b for a,b in zip(x1, x2)])\n",
    "S_x1_plus_S_x2 = [a+b for a,b in zip(median_filter(x1), median_filter(x2))]\n",
    "\n",
    "print(\"S(x1 + x2):     \", S_x1_plus_x2)\n",
    "print(\"S(x1) + S(x2):  \", S_x1_plus_S_x2)\n",
    "print(\"Linear? \", S_x1_plus_x2 == S_x1_plus_S_x2)   # -> False (not linear)\n",
    "\n",
    "# Time invariance quick check (delay by k zeros)\n",
    "def delay(seq, k): return [0]*k + seq\n",
    "k = 2\n",
    "left  = median_filter(delay(x1, k))          # S(T_k x)\n",
    "right = delay(median_filter(x1), k)          # T_k S(x)\n",
    "print(\"Time-invariant? \", left[:len(right)] == right[:len(left)])  # -> True\n",
    "\n",
    "# Causality & Stability (just answers)\n",
    "print(\"Causal? \", False)        # uses x[n+1] → not causal\n",
    "print(\"BIBO Stable? \", True)    # median of bounded values is bounded\n"
   ]
  },
  {
   "cell_type": "markdown",
   "metadata": {},
   "source": []
  }
 ],
 "metadata": {
  "kernelspec": {
   "display_name": "Python 3",
   "language": "python",
   "name": "python3"
  },
  "language_info": {
   "codemirror_mode": {
    "name": "ipython",
    "version": 3
   },
   "file_extension": ".py",
   "mimetype": "text/x-python",
   "name": "python",
   "nbconvert_exporter": "python",
   "pygments_lexer": "ipython3",
   "version": "3.12.10"
  }
 },
 "nbformat": 4,
 "nbformat_minor": 2
}
